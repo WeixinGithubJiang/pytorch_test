{
 "cells": [
  {
   "cell_type": "code",
   "execution_count": 1,
   "metadata": {},
   "outputs": [],
   "source": [
    "import numpy as np\n",
    "import matplotlib.pyplot as plt\n",
    "import torch\n",
    "import os\n",
    "from PIL import Image"
   ]
  },
  {
   "cell_type": "markdown",
   "metadata": {},
   "source": [
    "# generate dataset"
   ]
  },
  {
   "cell_type": "code",
   "execution_count": 2,
   "metadata": {
    "scrolled": true
   },
   "outputs": [],
   "source": [
    "x = np.linspace(-1,1,10000000)\n",
    "order = 100\n",
    "params = np.random.normal(size=order)\n",
    "# params"
   ]
  },
  {
   "cell_type": "code",
   "execution_count": 3,
   "metadata": {},
   "outputs": [
    {
     "data": {
      "text/plain": [
       "[<matplotlib.lines.Line2D at 0x7f3bd7d57190>]"
      ]
     },
     "execution_count": 3,
     "metadata": {},
     "output_type": "execute_result"
    },
    {
     "data": {
      "image/png": "[encoded data removed]",
      "text/plain": [
       "<Figure size 432x288 with 1 Axes>"
      ]
     },
     "metadata": {
      "needs_background": "light"
     },
     "output_type": "display_data"
    }
   ],
   "source": [
    "y = 0\n",
    "for i in range(order):\n",
    "    y = y + params[i]*x**i\n",
    "y = y + np.random.normal(scale=0.02,size=len(x))\n",
    "plt.plot(x,y)"
   ]
  },
  {
   "cell_type": "markdown",
   "metadata": {},
   "source": [
    "# dataloader"
   ]
  },
  {
   "cell_type": "code",
   "execution_count": 4,
   "metadata": {},
   "outputs": [],
   "source": [
    "class dataset(torch.utils.data.Dataset):\n",
    "    def __init__(self, x, y):\n",
    "        self.x = x\n",
    "        self.y = y\n",
    "        \n",
    "    def __len__(self):\n",
    "        return len(self.x)\n",
    "    \n",
    "    def __getitem__(self, idx):\n",
    "        x = self.x[idx]\n",
    "        y = self.y[idx]\n",
    "        return np.array([x]), np.array([y])"
   ]
  },
  {
   "cell_type": "markdown",
   "metadata": {},
   "source": [
    "# build model"
   ]
  },
  {
   "cell_type": "code",
   "execution_count": 5,
   "metadata": {},
   "outputs": [],
   "source": [
    "class Net(torch.nn.Module):\n",
    "    def __init__(self, order=3):\n",
    "        super(Net, self).__init__()\n",
    "        self.order = order\n",
    "        self.params = torch.nn.Parameter(torch.randn(self.order, dtype=torch.float32), requires_grad=True)\n",
    "        \n",
    "        \n",
    "    def forward(self, x):\n",
    "        out = 0\n",
    "        for i in range(self.order):\n",
    "            out = out + self.params[i]*x**i\n",
    "        return out"
   ]
  },
  {
   "cell_type": "markdown",
   "metadata": {},
   "source": [
    "# Train"
   ]
  },
  {
   "cell_type": "code",
   "execution_count": 6,
   "metadata": {},
   "outputs": [],
   "source": [
    "model = Net(100)\n",
    "device = torch.device(\"cuda:0\")\n",
    "model = torch.nn.DataParallel(model, device_ids=[0,1])\n",
    "model.to(device)\n",
    "optimizer = torch.optim.Adam(model.parameters(), lr=1e-1)"
   ]
  },
  {
   "cell_type": "code",
   "execution_count": 7,
   "metadata": {},
   "outputs": [],
   "source": [
    "test_dataset = dataset(x,y)\n",
    "train_dataloader = torch.utils.data.DataLoader(test_dataset, \n",
    "                                              batch_size=1000000, \n",
    "                                             shuffle=True,\n",
    "                                             num_workers=12)"
   ]
  },
  {
   "cell_type": "code",
   "execution_count": 8,
   "metadata": {
    "scrolled": true
   },
   "outputs": [
    {
     "name": "stdout",
     "output_type": "stream",
     "text": [
      "0 0 9.98367840705338\n",
      "0 1 7.1358134882823165\n",
      "0 2 5.048083927018086\n",
      "0 3 3.600680132097444\n",
      "0 4 2.7320611336410394\n",
      "0 5 2.3439750021728885\n",
      "0 6 2.265400784961951\n",
      "0 7 2.27074447804205\n",
      "0 8 2.232692015008649\n",
      "0 9 2.1146042022659457\n",
      "1 0 1.8863466637653206\n",
      "1 1 1.6139896255062423\n",
      "1 2 1.3367491731084233\n",
      "1 3 1.104508931360191\n",
      "1 4 0.929183173321925\n",
      "1 5 0.8289711704699801\n",
      "1 6 0.7911308423268377\n",
      "1 7 0.7924816302015747\n",
      "1 8 0.7943702467035708\n",
      "1 9 0.7632087460691803\n",
      "2 0 0.6949591509440038\n",
      "2 1 0.5877399385036336\n",
      "2 2 0.46329651288783547\n",
      "2 3 0.332195989808137\n",
      "2 4 0.22104765718917815\n",
      "2 5 0.13592768644937475\n",
      "2 6 0.08829181021407027\n",
      "2 7 0.07582868847002174\n",
      "2 8 0.09047901484641781\n",
      "2 9 0.11718109259346164\n",
      "3 0 0.14182276253041023\n",
      "3 1 0.1548496051446532\n",
      "3 2 0.1533724342719768\n",
      "3 3 0.13954265663047485\n",
      "3 4 0.12005441594386304\n",
      "3 5 0.10130672001607348\n",
      "3 6 0.08705139163113437\n",
      "3 7 0.08159069622917182\n",
      "3 8 0.08147482332079647\n",
      "3 9 0.0858842575295736\n",
      "4 0 0.08976877922848737\n",
      "4 1 0.0882392444522923\n",
      "4 2 0.08264297505502578\n",
      "4 3 0.07158965342981527\n",
      "4 4 0.061684375583766854\n",
      "4 5 0.05307507632989302\n",
      "4 6 0.047226569317153744\n",
      "4 7 0.0466105923097646\n",
      "4 8 0.04889207418558892\n",
      "4 9 0.052158414004141396\n",
      "5 0 0.05509320230672092\n",
      "5 1 0.05485905708892202\n",
      "5 2 0.05137144187288424\n",
      "5 3 0.045365069130763463\n",
      "5 4 0.03867295879529404\n",
      "5 5 0.03238210981272733\n",
      "5 6 0.028092444237328932\n",
      "5 7 0.025388223694793068\n",
      "5 8 0.02434001742070499\n",
      "5 9 0.023981327837880546\n",
      "6 0 0.023571388481617127\n",
      "6 1 0.022569274207821434\n",
      "6 2 0.020813746307238864\n",
      "6 3 0.019034278662411593\n",
      "6 4 0.01746424100171519\n",
      "6 5 0.01660667099151151\n",
      "6 6 0.01624676587691171\n",
      "6 7 0.016210456680637\n",
      "6 8 0.016300649626266876\n",
      "6 9 0.016162213088351227\n",
      "7 0 0.01540148884551148\n",
      "7 1 0.014412735281433695\n",
      "7 2 0.013273380410407059\n",
      "7 3 0.012423662563975722\n",
      "7 4 0.011841452723650867\n",
      "7 5 0.011651652171239436\n",
      "7 6 0.01171726504641652\n",
      "7 7 0.011896674923661059\n",
      "7 8 0.011863320079398668\n",
      "7 9 0.011677806738447136\n",
      "8 0 0.011283006881567395\n",
      "8 1 0.010814218591712483\n",
      "8 2 0.0103973550763427\n",
      "8 3 0.010097638445511842\n",
      "8 4 0.009846823717841333\n",
      "8 5 0.009718673453022148\n",
      "8 6 0.00953600929449565\n",
      "8 7 0.009316171375750913\n",
      "8 8 0.009023618691856687\n",
      "8 9 0.008743900751726746\n",
      "9 0 0.008498883306494216\n",
      "9 1 0.008338898514556943\n",
      "9 2 0.008239549078589483\n",
      "9 3 0.008161419895739786\n",
      "9 4 0.008070241950076442\n",
      "9 5 0.008001368733343922\n",
      "9 6 0.00782559419721127\n",
      "9 7 0.007675607186675041\n",
      "9 8 0.007500646428678768\n",
      "9 9 0.007372943237982753\n",
      "10 0 0.0072634935993237575\n",
      "10 1 0.0071952772090358484\n",
      "10 2 0.007129738829812812\n",
      "10 3 0.0070625751231725205\n",
      "10 4 0.006999177143276864\n",
      "10 5 0.0069058561603088766\n",
      "10 6 0.006809659423301359\n",
      "10 7 0.006755627395545507\n",
      "10 8 0.0067026903286163415\n",
      "10 9 0.006630611461529892\n",
      "11 0 0.006582772599943794\n",
      "11 1 0.006532983297310146\n",
      "11 2 0.0064514508785058575\n",
      "11 3 0.006360759080804105\n",
      "11 4 0.0063067789342552355\n",
      "11 5 0.00625840491962594\n",
      "11 6 0.006196791202527606\n",
      "11 7 0.006168400560837395\n",
      "11 8 0.006112402906767367\n",
      "11 9 0.0060787031816300985\n",
      "12 0 0.006014630223452827\n",
      "12 1 0.005970933407086548\n",
      "12 2 0.005923638521543403\n",
      "12 3 0.005880301893534648\n",
      "12 4 0.005833819646144954\n",
      "12 5 0.005790025513547818\n",
      "12 6 0.005748155650502834\n",
      "12 7 0.0057098148920386406\n",
      "12 8 0.005661522849549729\n",
      "12 9 0.005622744111537497\n",
      "13 0 0.00558891566936446\n",
      "13 1 0.005536572173101339\n",
      "13 2 0.005508491415589038\n",
      "13 3 0.005479059102586725\n",
      "13 4 0.005438236991102262\n",
      "13 5 0.005392975483787726\n",
      "13 6 0.005369083461366917\n",
      "13 7 0.005333012408709249\n",
      "13 8 0.005299354635217708\n",
      "13 9 0.005266871327617205\n",
      "14 0 0.005230113627168527\n",
      "14 1 0.005194042330593695\n",
      "14 2 0.005158257010580858\n",
      "14 3 0.005125261833374795\n",
      "14 4 0.005098860175136579\n",
      "14 5 0.005067468852119141\n",
      "14 6 0.0050298258536126544\n",
      "14 7 0.005006635774539377\n",
      "14 8 0.004966163505566259\n",
      "14 9 0.004937460546925636\n",
      "15 0 0.004902629878215442\n",
      "15 1 0.004873841868646285\n",
      "15 2 0.0048531981438674964\n",
      "15 3 0.004818758896744401\n",
      "15 4 0.004792037213333937\n",
      "15 5 0.004759819585515367\n",
      "15 6 0.004732664470466879\n",
      "15 7 0.00470400753767155\n",
      "15 8 0.0046681533744076815\n",
      "15 9 0.004644991130490962\n",
      "16 0 0.004618312676993277\n",
      "16 1 0.004587382797679031\n",
      "16 2 0.00456519964257124\n",
      "16 3 0.004536810634318352\n",
      "16 4 0.00450648911581196\n",
      "16 5 0.004477202520795904\n",
      "16 6 0.004459918728282307\n",
      "16 7 0.004431142057291808\n",
      "16 8 0.004409951451464184\n",
      "16 9 0.004376118540154636\n",
      "17 0 0.004352618907934506\n",
      "17 1 0.004318569364824542\n",
      "17 2 0.004306992327334322\n",
      "17 3 0.00428114560507919\n",
      "17 4 0.004257431510279648\n",
      "17 5 0.0042275136789282405\n",
      "17 6 0.004196210762218644\n",
      "17 7 0.004191745059824001\n",
      "17 8 0.004161282613059225\n",
      "17 9 0.00413773133095663\n",
      "18 0 0.004106595386303737\n",
      "18 1 0.004084056880147462\n",
      "18 2 0.0040722707051652745\n",
      "18 3 0.004048260858540618\n",
      "18 4 0.004019439092483542\n",
      "18 5 0.003998255198049338\n",
      "18 6 0.003976875887332669\n",
      "18 7 0.003960205912819691\n",
      "18 8 0.003934207240357925\n",
      "18 9 0.0039182486966031745\n",
      "19 0 0.0038887841070484232\n",
      "19 1 0.003867103953509436\n",
      "19 2 0.0038499461048357485\n",
      "19 3 0.0038323906987350605\n",
      "19 4 0.0038058944897455863\n",
      "19 5 0.003797064836630562\n",
      "19 6 0.003770035545554161\n",
      "19 7 0.0037530361628327247\n",
      "19 8 0.003729703959051454\n",
      "19 9 0.0037198055930514886\n",
      "20 0 0.0036929798230260543\n",
      "20 1 0.003676469494854461\n",
      "20 2 0.0036569291438297894\n",
      "20 3 0.003631648755611617\n",
      "20 4 0.0036159984855496834\n",
      "20 5 0.003603748677836271\n",
      "20 6 0.003589184562696867\n",
      "20 7 0.0035686194425563196\n",
      "20 8 0.003540173741607599\n",
      "20 9 0.003526214819504918\n",
      "21 0 0.0035035258391427006\n",
      "21 1 0.0034912925808754346\n",
      "21 2 0.003481047330890089\n",
      "21 3 0.003461867743735231\n",
      "21 4 0.0034527962911366544\n",
      "21 5 0.0034311700989172423\n",
      "21 6 0.0034034542906514202\n",
      "21 7 0.003399125762135848\n",
      "21 8 0.0033710305318579883\n",
      "21 9 0.0033692384599917947\n",
      "22 0 0.0033508892763744152\n",
      "22 1 0.003333392698103037\n",
      "22 2 0.003318223978398884\n",
      "22 3 0.0032914767675988705\n",
      "22 4 0.003287904389509739\n",
      "22 5 0.0032674616236957202\n",
      "22 6 0.0032624490835684865\n",
      "22 7 0.003240151597526515\n",
      "22 8 0.0032202324681602115\n",
      "22 9 0.003214341329833352\n",
      "23 0 0.0031949926618879483\n",
      "23 1 0.0031840737878677428\n",
      "23 2 0.003172497426376843\n",
      "23 3 0.0031532233573342565\n",
      "23 4 0.003132290153781921\n",
      "23 5 0.0031337098951588166\n",
      "23 6 0.0031189291503582075\n",
      "23 7 0.003099907539572479\n",
      "23 8 0.0030886789953923867\n",
      "23 9 0.0030726005365796847\n",
      "24 0 0.003063735032237873\n",
      "24 1 0.003044739954096778\n",
      "24 2 0.003038507641212681\n",
      "24 3 0.003015206784814507\n",
      "24 4 0.003014327804150855\n",
      "24 5 0.0029979068546391995\n",
      "24 6 0.002980453396605592\n",
      "24 7 0.002981019471062819\n",
      "24 8 0.0029612543901475345\n",
      "24 9 0.002945827156512123\n",
      "25 0 0.0029405093584495084\n",
      "25 1 0.0029292179632741935\n",
      "25 2 0.0029136555730244493\n",
      "25 3 0.0028962282737661584\n",
      "25 4 0.0028868605900416494\n",
      "25 5 0.0028779566208951488\n",
      "25 6 0.00286973471421769\n",
      "25 7 0.0028565784455959384\n",
      "25 8 0.002841403138511401\n",
      "25 9 0.0028347308535175576\n",
      "26 0 0.002813003420716759\n",
      "26 1 0.0028096454860240777\n",
      "26 2 0.0027991344188355687\n",
      "26 3 0.0027964835955530693\n",
      "26 4 0.0027822957771294443\n",
      "26 5 0.0027654971098277736\n",
      "26 6 0.0027650441994669767\n",
      "26 7 0.002753338157600792\n",
      "26 8 0.0027413838188209256\n",
      "26 9 0.0027240533038839568\n",
      "27 0 0.0027173911827650435\n",
      "27 1 0.002703977488062853\n",
      "27 2 0.002693830601550505\n",
      "27 3 0.0026966548608719724\n",
      "27 4 0.0026839283692789385\n",
      "27 5 0.0026659111048477143\n",
      "27 6 0.0026539984820763223\n",
      "27 7 0.0026537665406969613\n",
      "27 8 0.0026392506985366527\n",
      "27 9 0.00263207245735168\n",
      "28 0 0.0026172415115200314\n",
      "28 1 0.0026111009903467598\n",
      "28 2 0.0025946242644509093\n",
      "28 3 0.0026032505154711277\n",
      "28 4 0.0025870014078937234\n",
      "28 5 0.002581191082982141\n",
      "28 6 0.0025720281576738554\n",
      "28 7 0.0025531255822291835\n",
      "28 8 0.0025542672146765424\n",
      "28 9 0.0025323316252363988\n",
      "29 0 0.0025329701093450823\n",
      "29 1 0.0025202407512925915\n",
      "29 2 0.0025179904876892955\n",
      "29 3 0.002507948301592449\n",
      "29 4 0.00249937058283172\n",
      "29 5 0.0024917295583460793\n",
      "29 6 0.0024801913982349672\n",
      "29 7 0.002471001795099187\n",
      "29 8 0.0024629473919370974\n",
      "29 9 0.0024532457704635542\n"
     ]
    }
   ],
   "source": [
    "loss_history = []\n",
    "model.train()\n",
    "for epoch in range(30):\n",
    "    for idx, (inpt, target) in enumerate(train_dataloader):\n",
    "        optimizer.zero_grad()\n",
    "        pred = model(inpt.to(device))\n",
    "        loss = torch.nn.MSELoss()(pred, target.to(device))\n",
    "        loss.backward()\n",
    "        optimizer.step()\n",
    "        print(epoch, idx, loss.item())\n",
    "        loss_history.append(loss.item())"
   ]
  },
  {
   "cell_type": "code",
   "execution_count": 9,
   "metadata": {},
   "outputs": [
    {
     "data": {
      "text/plain": [
       "[<matplotlib.lines.Line2D at 0x7f3b53ac47c0>]"
      ]
     },
     "execution_count": 9,
     "metadata": {},
     "output_type": "execute_result"
    },
    {
     "data": {
      "image/png": "[encoded data removed]",
      "text/plain": [
       "<Figure size 432x288 with 1 Axes>"
      ]
     },
     "metadata": {
      "needs_background": "light"
     },
     "output_type": "display_data"
    }
   ],
   "source": [
    "plt.plot(loss_history)"
   ]
  },
  {
   "cell_type": "code",
   "execution_count": 11,
   "metadata": {
    "scrolled": true
   },
   "outputs": [
    {
     "data": {
      "text/plain": [
       "(Parameter containing:\n",
       " tensor([ 0.5486, -0.7611,  0.0658, -0.3988, -0.9718, -0.9992, -1.9194, -0.2260,\n",
       "          0.4689,  0.2998, -0.3657, -1.8426, -0.9914, -0.6322, -0.0789,  0.7569,\n",
       "         -1.8835, -2.1763,  0.5486, -0.1219, -0.2241,  0.6970, -0.2553,  2.0064,\n",
       "         -0.4031,  0.2196,  1.4183,  0.2267, -0.3030,  1.0674, -0.3398,  0.7862,\n",
       "         -1.1072, -0.5493, -1.0664,  0.2937,  0.5418, -0.2687, -0.5949,  0.6683,\n",
       "          0.7625, -1.1070,  0.5881,  0.4644, -1.7230, -0.7600, -0.8818, -0.8845,\n",
       "          0.1066,  0.3814,  1.6992,  0.2358,  0.7625, -0.3051, -0.7270, -1.4047,\n",
       "         -0.4417, -0.4397,  0.2185, -0.9340,  1.8901,  0.7824, -0.2439, -0.5651,\n",
       "          0.1492,  0.5470,  0.5856, -0.8085, -0.9717, -0.0988, -1.9906, -0.7431,\n",
       "          0.2560,  0.9628,  1.0010,  0.0544, -0.3614, -0.0353,  0.0590, -0.7499,\n",
       "          0.9970,  0.5474, -0.8685,  1.0336,  1.8581, -0.7094, -0.1160, -0.9637,\n",
       "          0.9883,  0.7509,  0.5961,  0.9860, -0.2828,  1.2948, -0.8250,  0.2557,\n",
       "          0.4638,  1.4482,  0.6109,  0.1546], device='cuda:0',\n",
       "        requires_grad=True),\n",
       " array([ 0.5896283 , -0.63157612, -0.42693952, -0.94215802, -0.55276391,\n",
       "        -0.1673109 , -0.77634266, -1.6713198 , -0.48088507,  0.698934  ,\n",
       "        -0.20449455, -1.09573538, -0.8077174 , -0.06146684, -0.89840148,\n",
       "         1.1570353 , -0.44375395, -0.58142892, -0.38611764,  0.41669671,\n",
       "        -0.80398614,  0.13799471, -0.06640798, -1.68281674, -2.15286649,\n",
       "         0.32529013,  0.31566823,  0.60905729,  0.3473712 ,  0.7909146 ,\n",
       "         0.71577913,  0.12223325, -1.2148449 , -0.46644718,  0.16605373,\n",
       "         0.75792321, -0.50879762, -0.60516346, -0.29070078, -1.68145361,\n",
       "         1.81372372, -1.67551143,  1.41270036, -0.77546751, -1.00890128,\n",
       "         0.49613117, -0.67493287,  1.24938952,  0.36776604,  0.13710572,\n",
       "         0.32371263, -2.09161448, -0.35586711,  0.69247339,  0.06533566,\n",
       "        -1.04679229,  0.11607424,  0.50341723, -0.31205849,  1.39379387,\n",
       "        -0.7675472 ,  0.740282  ,  0.18723562,  0.80831026,  1.1347516 ,\n",
       "         2.16224715, -0.5461931 ,  0.42537548,  1.10113918,  0.91872524,\n",
       "         0.85649826,  0.31054849,  0.88230268, -0.39938606,  0.04460072,\n",
       "         0.69818919, -0.57201521, -0.80783246, -0.03726437,  0.29187149,\n",
       "        -0.36058221,  0.64452029,  1.45524624, -0.50335241,  0.20473061,\n",
       "        -0.88151521,  1.45181802, -0.39002919,  0.06553613, -2.2054206 ,\n",
       "        -1.74041853,  0.58773088, -0.42519913,  0.93671023,  2.53727406,\n",
       "        -0.3451917 , -1.24738183,  0.18968462, -1.03326616,  0.71815857]))"
      ]
     },
     "execution_count": 11,
     "metadata": {},
     "output_type": "execute_result"
    }
   ],
   "source": [
    "model.module.params, params"
   ]
  },
  {
   "cell_type": "code",
   "execution_count": 12,
   "metadata": {},
   "outputs": [],
   "source": [
    "test_dataloader = torch.utils.data.DataLoader(test_dataset, \n",
    "                                              batch_size=10000000, \n",
    "                                             shuffle=False,\n",
    "                                             num_workers=12)"
   ]
  },
  {
   "cell_type": "code",
   "execution_count": 13,
   "metadata": {},
   "outputs": [
    {
     "data": {
      "text/plain": [
       "torch.Size([10000000, 1])"
      ]
     },
     "execution_count": 13,
     "metadata": {},
     "output_type": "execute_result"
    }
   ],
   "source": [
    "inpt, target = next(iter(test_dataloader))\n",
    "model.eval()\n",
    "with torch.no_grad():\n",
    "    pred = model(inpt.to(device))\n",
    "pred.shape"
   ]
  },
  {
   "cell_type": "code",
   "execution_count": 14,
   "metadata": {},
   "outputs": [
    {
     "data": {
      "text/plain": [
       "<matplotlib.legend.Legend at 0x7f3bb8b4aca0>"
      ]
     },
     "execution_count": 14,
     "metadata": {},
     "output_type": "execute_result"
    },
    {
     "data": {
      "image/png": "[encoded data removed]",
      "text/plain": [
       "<Figure size 432x288 with 1 Axes>"
      ]
     },
     "metadata": {
      "needs_background": "light"
     },
     "output_type": "display_data"
    }
   ],
   "source": [
    "plt.plot(x, y, label=\"gt\")\n",
    "plt.plot(x, pred.data.cpu().numpy().reshape(-1), label=\"pred\")\n",
    "plt.legend()"
   ]
  },
  {
   "cell_type": "code",
   "execution_count": null,
   "metadata": {},
   "outputs": [],
   "source": []
  },
  {
   "cell_type": "code",
   "execution_count": null,
   "metadata": {},
   "outputs": [],
   "source": []
  },
  {
   "cell_type": "code",
   "execution_count": 70,
   "metadata": {},
   "outputs": [
    {
     "data": {
      "text/plain": [
       "tensor([ 0.2904, -1.3879,  0.1926], requires_grad=True)"
      ]
     },
     "execution_count": 70,
     "metadata": {},
     "output_type": "execute_result"
    }
   ],
   "source": [
    "params"
   ]
  },
  {
   "cell_type": "code",
   "execution_count": null,
   "metadata": {},
   "outputs": [],
   "source": []
  },
  {
   "cell_type": "code",
   "execution_count": 52,
   "metadata": {},
   "outputs": [],
   "source": [
    "test_net = Net()"
   ]
  },
  {
   "cell_type": "code",
   "execution_count": 53,
   "metadata": {},
   "outputs": [],
   "source": [
    "inpt, target = next(iter(test_dataloader))"
   ]
  },
  {
   "cell_type": "code",
   "execution_count": 54,
   "metadata": {},
   "outputs": [
    {
     "data": {
      "text/plain": [
       "torch.Size([100, 1])"
      ]
     },
     "execution_count": 54,
     "metadata": {},
     "output_type": "execute_result"
    }
   ],
   "source": [
    "pred = test_net(inpt)\n",
    "pred.shape"
   ]
  },
  {
   "cell_type": "code",
   "execution_count": 55,
   "metadata": {},
   "outputs": [
    {
     "data": {
      "text/plain": [
       "tensor([[-1.7546],\n",
       "        [-1.1943],\n",
       "        [-1.5217],\n",
       "        [-1.7836],\n",
       "        [-1.5862],\n",
       "        [-1.7387],\n",
       "        [-1.6849],\n",
       "        [-1.8323],\n",
       "        [-1.3163],\n",
       "        [-1.5543],\n",
       "        [-1.1596],\n",
       "        [-1.5926],\n",
       "        [-1.8259],\n",
       "        [-1.3023],\n",
       "        [-1.0948],\n",
       "        [-1.6713],\n",
       "        [-1.8285],\n",
       "        [-1.7407],\n",
       "        [-1.1631],\n",
       "        [-1.7629],\n",
       "        [-1.8152],\n",
       "        [-1.8235],\n",
       "        [-1.3224],\n",
       "        [-0.9644],\n",
       "        [-1.5588],\n",
       "        [-1.8352],\n",
       "        [-1.2834],\n",
       "        [-1.4295],\n",
       "        [-1.7806],\n",
       "        [-1.5577],\n",
       "        [-0.9703],\n",
       "        [-1.5108],\n",
       "        [-1.5688],\n",
       "        [-1.7685],\n",
       "        [-1.4457],\n",
       "        [-1.3496],\n",
       "        [-1.5193],\n",
       "        [-1.3541],\n",
       "        [-1.6499],\n",
       "        [-1.5335],\n",
       "        [-1.8329],\n",
       "        [-1.3600],\n",
       "        [-1.6535],\n",
       "        [-1.0328],\n",
       "        [-1.8080],\n",
       "        [-1.3331],\n",
       "        [-1.3116],\n",
       "        [-1.8293],\n",
       "        [-1.5978],\n",
       "        [-1.3673],\n",
       "        [-1.7206],\n",
       "        [-1.5655],\n",
       "        [-1.5059],\n",
       "        [-1.4576],\n",
       "        [-1.4403],\n",
       "        [-1.8143],\n",
       "        [-1.5999],\n",
       "        [-1.6807],\n",
       "        [-1.6773],\n",
       "        [-1.8267],\n",
       "        [-1.6643],\n",
       "        [-1.0290],\n",
       "        [-1.8208],\n",
       "        [-1.7938],\n",
       "        [-1.2929],\n",
       "        [-1.7147],\n",
       "        [-1.8341],\n",
       "        [-1.7888],\n",
       "        [-1.1648],\n",
       "        [-1.7617],\n",
       "        [-1.8354],\n",
       "        [-1.5699],\n",
       "        [-1.8220],\n",
       "        [-1.4417],\n",
       "        [-1.1560],\n",
       "        [-1.2754],\n",
       "        [-1.6443],\n",
       "        [-1.4032],\n",
       "        [-1.4046],\n",
       "        [-1.4680],\n",
       "        [-1.6508],\n",
       "        [-1.1113],\n",
       "        [-1.8345],\n",
       "        [-1.8272],\n",
       "        [-1.8158],\n",
       "        [-1.2913],\n",
       "        [-1.5144],\n",
       "        [-1.7874],\n",
       "        [-1.4834],\n",
       "        [-1.7702],\n",
       "        [-1.5765],\n",
       "        [-1.7426],\n",
       "        [-1.7657],\n",
       "        [-1.6162],\n",
       "        [-1.1239],\n",
       "        [-1.8216],\n",
       "        [-1.7766],\n",
       "        [-1.3688],\n",
       "        [-1.7988],\n",
       "        [-1.3451]], dtype=torch.float64, grad_fn=<AddBackward0>)"
      ]
     },
     "execution_count": 55,
     "metadata": {},
     "output_type": "execute_result"
    }
   ],
   "source": [
    "pred"
   ]
  },
  {
   "cell_type": "code",
   "execution_count": null,
   "metadata": {},
   "outputs": [],
   "source": []
  }
 ],
 "metadata": {
  "kernelspec": {
   "display_name": "Python3 (plot_digitizer)",
   "language": "python",
   "name": "plot_digitizer"
  },
  "language_info": {
   "codemirror_mode": {
    "name": "ipython",
    "version": 3
   },
   "file_extension": ".py",
   "mimetype": "text/x-python",
   "name": "python",
   "nbconvert_exporter": "python",
   "pygments_lexer": "ipython3",
   "version": "3.8.5"
  }
 },
 "nbformat": 4,
 "nbformat_minor": 4
}
